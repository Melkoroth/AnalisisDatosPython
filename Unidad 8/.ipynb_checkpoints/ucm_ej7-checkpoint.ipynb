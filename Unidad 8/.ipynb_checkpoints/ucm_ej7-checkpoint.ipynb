{
 "cells": [
  {
   "cell_type": "markdown",
   "metadata": {},
   "source": [
    "# Ejercicios 7\n",
    "\n"
   ]
  },
  {
   "cell_type": "markdown",
   "metadata": {},
   "source": [
    "#### 1. Carga de datos"
   ]
  },
  {
   "cell_type": "markdown",
   "metadata": {},
   "source": [
    "[Movilens Dataset](http://grouplens.org/datasets/movielens/) recoge datos de 6000 usuarios y 4000  películas. Un total de 1.000.000 de entradas. La información se distribuye en 3 tablas.\n",
    "\n",
    "- ratings.dat - El fichero recoge datos de valoraciones  de los usuarios\n",
    "- movies.dat - Datos de las películas\n",
    "- users.dat - Datos personales de los usuarios\n",
    "\n",
    "\n",
    "Toda esta información se utiliza con mucha frecuencia en los sistemas de recomendación que aplican algoritmos de aprendizaje.\n",
    "\n"
   ]
  },
  {
   "cell_type": "markdown",
   "metadata": {},
   "source": [
    "Pasos a seguir:\n",
    "\n",
    "__Paso 1__. Descargar los siguientes ficheros de datos en el directorio de trabajo.\n",
    "\n",
    "[users](./ml-1m/users.dat)\n",
    "\n",
    "[movies](./ml-1m/movies.dat)\n",
    "\n",
    "[ratings](./ml-1m/ratings.dat)"
   ]
  },
  {
   "cell_type": "markdown",
   "metadata": {},
   "source": [
    "__Paso 2__. Crear un DataFrame para cada uno de los ficheros.  Usar la función head() para visualizar los primeros datos.\n",
    "\n",
    "* Los dataframes han de llamarse: `usuarios`, `peliculas` y `valoraciones`.\n",
    "* Con respecto a la carga del fichero ratings (tenéis la instrucción de carga más abajo): \n",
    "    * tiene un campo de tipo fecha expresado en segundos. \n",
    "    * Indica en la función __read_csv__ que vas a parsear esa columna como una fecha.\n",
    "    * Utiliza la función __datetime.fromtimestamp__ para parsear las fechas.  Para ello tendrás que indicarlo en el parámetro __date_parser__ de la función __read_table__."
   ]
  },
  {
   "cell_type": "code",
   "execution_count": 166,
   "metadata": {},
   "outputs": [],
   "source": [
    "import numpy as np\n",
    "import pandas as pd\n",
    "\n",
    "import matplotlib as mpl\n",
    "import matplotlib.pyplot as plt\n",
    "\n",
    "%matplotlib inline\n",
    "\n",
    "ruta_ratings = './ratings.dat'     # AQUÍ PONER LA RUTA DEL FICHERO\n",
    "ruta_movies = './movies.dat'\n",
    "ruta_users = './users.dat'\n"
   ]
  },
  {
   "cell_type": "code",
   "execution_count": 167,
   "metadata": {},
   "outputs": [
    {
     "name": "stdout",
     "output_type": "stream",
     "text": [
      "   id_usuario  id_peli  puntuacion               Fecha\n",
      "0           1     1193           5 2000-12-31 23:12:40\n",
      "1           1      661           3 2000-12-31 23:35:09\n",
      "2           1      914           3 2000-12-31 23:32:48\n",
      "3           1     3408           4 2000-12-31 23:04:35\n",
      "4           1     2355           5 2001-01-07 00:38:11\n",
      "   id_peli                              titulo                        genero\n",
      "0        1                    Toy Story (1995)   Animation|Children's|Comedy\n",
      "1        2                      Jumanji (1995)  Adventure|Children's|Fantasy\n",
      "2        3             Grumpier Old Men (1995)                Comedy|Romance\n",
      "3        4            Waiting to Exhale (1995)                  Comedy|Drama\n",
      "4        5  Father of the Bride Part II (1995)                        Comedy\n",
      "   id_usuario sexo  edad  oficio codPostal\n",
      "0           1    F     1      10     48067\n",
      "1           2    M    56      16     70072\n",
      "2           3    M    25      15     55117\n",
      "3           4    M    45       7     02460\n",
      "4           5    M    25      20     55455\n"
     ]
    }
   ],
   "source": [
    "# Sol apartado 1:\n",
    "\n",
    "from datetime import datetime\n",
    "dateparse = lambda x: datetime.fromtimestamp(float(x))\n",
    "\n",
    "valoraciones = pd.read_csv(ruta_ratings, sep = '::', header = None,\n",
    "                         names = ['id_usuario', 'id_peli', 'puntuacion', 'Fecha'],\n",
    "                         engine ='python',\n",
    "                         parse_dates=[3], date_parser=dateparse)\n",
    "\n",
    "peliculas = pd.read_csv(ruta_movies, sep = '::', header = None,\n",
    "                         names = ['id_peli', 'titulo', 'genero'],\n",
    "                         engine ='python')   \n",
    "\n",
    "usuarios = pd.read_csv(ruta_users, sep = '::', header = None,\n",
    "                         names = ['id_usuario', 'sexo', 'edad', 'oficio', 'codPostal'],\n",
    "                         engine ='python') \n",
    "\n",
    "print(valoraciones.head())\n",
    "print(peliculas.head())\n",
    "print(usuarios.head())"
   ]
  },
  {
   "cell_type": "markdown",
   "metadata": {
    "collapsed": true
   },
   "source": [
    "#### 2. Diagrama de Frecuencias"
   ]
  },
  {
   "cell_type": "markdown",
   "metadata": {},
   "source": [
    "Los usuarios valoran las películas con valores del 1 al 5 donde el 1 es la peor puntuación y 5 es la mejor. La puntuación es una variable categórica. \n",
    "Representa mediante un diagrama de Frecuencias (tipo hist) la frecuencia de los votos de la película con título __X-Men (2000)__.\n",
    "\n",
    "El gráfico que tienes que construir debe tener el siguiente aspecto:\n",
    "\n",
    "![Diagrama](mi_diagrama.png)\n",
    "\n",
    "__Notas:__\n",
    "\n",
    "* El título de la película está en el dataframe __películas__."
   ]
  },
  {
   "cell_type": "code",
   "execution_count": 168,
   "metadata": {},
   "outputs": [
    {
     "data": {
      "text/plain": [
       "<matplotlib.axes._subplots.AxesSubplot at 0x7fa8e8f81518>"
      ]
     },
     "execution_count": 168,
     "metadata": {},
     "output_type": "execute_result"
    },
    {
     "data": {
      "image/png": "[encoded data removed]",
      "text/plain": [
       "<Figure size 432x288 with 1 Axes>"
      ]
     },
     "metadata": {},
     "output_type": "display_data"
    }
   ],
   "source": [
    "selecPeli = pd.DataFrame(peliculas.loc[peliculas[\"titulo\"] == \"X-Men (2000)\"].iloc[:,0])\n",
    "#print(selecPeli)\n",
    "selecValoracion = valoraciones.loc[valoraciones[\"id_peli\"] == selecPeli.iloc[0,0]]\n",
    "#print(selecValoracion.head())\n",
    "\n",
    "selecValoracion[\"puntuacion\"].plot(kind = \"hist\", bins = 5, title = \"X-Men (2000)\")"
   ]
  },
  {
   "cell_type": "markdown",
   "metadata": {
    "collapsed": true
   },
   "source": [
    "#### 3. Puntuación media"
   ]
  },
  {
   "cell_type": "markdown",
   "metadata": {},
   "source": [
    "Calcula la puntuación media  de cada película por sexo del usuario. Diseña una función llamada __puntuacion_media__ que devuelve un Dataframe donde el índice es el título de la película y las columnaa son 'F' y 'M' (Female y Male respectivamente).\n",
    "\n",
    "__Nota__:\n",
    "Hay varias formas de hacerlo. Aquí os dejo alguna sugerencia:\n",
    "* Necesitamos combinar las tres tablas ya que tenemos, por un lado las valoraciones, por otro el título de la película y por otro el sexo de los usuarios. La operación merge te permitirá realizar la  combinación\n",
    "    * Combina primero las valoraciones con las peliculas por el campo 'id_peli'.\n",
    "    * Combina el resultado anterior con los usuarios por el campo 'id_usuario'.\n",
    "    \n",
    "* Una vez combinadas las tres tablas en una sola tabla:\n",
    "    * solución 1:  Agrupar por el título de la película y por sexo del usuario. La función de agregación es la media mean(). Para obtener la tabla pedida utiliza `unstack` para deshacer el multi índice.\n",
    "    * solución 2: Consulta la ayuda de la función __pivot_table__. Utiliza la función __pivot_table__. Esta no la hemos visto en la teoría, pero es muy interesante y útil. Merece la pena que intentéis resolverlo también utilizando esta opción.\n"
   ]
  },
  {
   "cell_type": "code",
   "execution_count": null,
   "metadata": {
    "collapsed": true
   },
   "outputs": [],
   "source": [
    "# Sol:\n",
    "def puntuacion_media():\n",
    "    \"\"\"Calcula la puntuación media  de cada película por sexo del usuario\n",
    "    \n",
    "    Example:\n",
    "        >>> puntuacion_media()\n",
    "        genero_u                            F          M\n",
    "        titulo \n",
    "        $1,000,000 Duck (1971)       3.375000    2.761905\n",
    "        'Night Mother (1986)         3.388889    3.352941\n",
    "        'Til There Was You (1997)    2.675676    2.733333\n",
    "\n",
    "\"\"\""
   ]
  },
  {
   "cell_type": "markdown",
   "metadata": {},
   "source": [
    "#### 4. Mejor valoradas por mujeres"
   ]
  },
  {
   "cell_type": "markdown",
   "metadata": {},
   "source": [
    "Ahora queremos conocer las películas mejor valoradas por las mujeres. Crea una función llamada __mejor_valoradas_mujeres__. Utiliza el dataFrame devuelto por la función __puntuacion_media__ del apartado anterior y devuelve un DataFrame ordenado de forma apropiada. \n",
    "\n",
    "__Nota__:\n",
    "\n",
    "* Utiliza la función __sort_values__ para ordenar los resultados."
   ]
  },
  {
   "cell_type": "code",
   "execution_count": null,
   "metadata": {
    "collapsed": true
   },
   "outputs": [],
   "source": [
    "# Sol: \n",
    "def mejor_valoradas_mujeres(data):\n",
    "    \"\"\" Calcula las películas mejor valoradas por las mujeres\n",
    "    Args:\n",
    "         @type data: dataframe             \n",
    "\n",
    "    Returns: \n",
    "        @rtype: dataframe\n",
    "    \n",
    "    Examples:\n",
    "     >>> mejor_valoradas_mujeres(data)\n",
    "     genero_u                                               F           M\n",
    "     titulo\n",
    "        Clean Slate (Coup de Torchon) (1981)         5.000000    3.857143\n",
    "        Ballad of Narayama, The (Narayama Bushiko)   5.000000    3.428571\n",
    "        Raw Deal (1948)                              5.000000    3.307692\n",
    "        Bittersweet Motel (2000)                     5.000000    NaN\n",
    "        Skipped Parts (2000)                         5.000000    4.000000\n",
    "        Lamerica (1994)                              5.000000    4.666667"
   ]
  }
 ],
 "metadata": {
  "anaconda-cloud": {},
  "kernelspec": {
   "display_name": "Python 3",
   "language": "python",
   "name": "python3"
  },
  "language_info": {
   "codemirror_mode": {
    "name": "ipython",
    "version": 3
   },
   "file_extension": ".py",
   "mimetype": "text/x-python",
   "name": "python",
   "nbconvert_exporter": "python",
   "pygments_lexer": "ipython3",
   "version": "3.6.5"
  }
 },
 "nbformat": 4,
 "nbformat_minor": 1
}
