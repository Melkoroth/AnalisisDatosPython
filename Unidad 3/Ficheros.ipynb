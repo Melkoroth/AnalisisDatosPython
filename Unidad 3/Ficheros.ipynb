{
 "cells": [
  {
   "cell_type": "code",
   "execution_count": 3,
   "metadata": {},
   "outputs": [
    {
     "data": {
      "text/plain": [
       "'/home/ender/Desktop/AnalisisDatosPython/Unidad 3'"
      ]
     },
     "execution_count": 3,
     "metadata": {},
     "output_type": "execute_result"
    }
   ],
   "source": [
    "%pwd"
   ]
  },
  {
   "cell_type": "code",
   "execution_count": 4,
   "metadata": {},
   "outputs": [
    {
     "name": "stdout",
     "output_type": "stream",
     "text": [
      "\u001b[0m\u001b[01;34m'1 - t3_secuencias_files'\u001b[0m/      \u001b[01;34m'6 - t4_funciones_02_files'\u001b[0m/\r\n",
      "'1 - t3_secuencias.html'        '6 - t4_funciones_02.html'\r\n",
      "\u001b[01;34m'2 - t3_diccionarios_files'\u001b[0m/    \u001b[01;34m'7 - aplicacion_web_scraping_files'\u001b[0m/\r\n",
      "'2 - t3_diccionarios.html'      '7 - aplicacion_web_scraping.html'\r\n",
      "\u001b[01;34m'3 - t3_instrucciones_files'\u001b[0m/    ControlFlujo.ipynb\r\n",
      "'3 - t3_instrucciones.html'      Diccionarios.ipynb\r\n",
      "\u001b[01;34m'4 - t3_comprehensions_files'\u001b[0m/  'Estructuras de datos.ipynb'\r\n",
      "'4 - t3_comprehensions.html'     Ficheros.ipynb\r\n",
      "\u001b[01;34m'5 - t4_files_files'\u001b[0m/           'List comprehension.ipynb'\r\n",
      "'5 - t4_files.html'              testes.py\r\n"
     ]
    }
   ],
   "source": [
    "%ls"
   ]
  },
  {
   "cell_type": "code",
   "execution_count": 6,
   "metadata": {},
   "outputs": [
    {
     "name": "stdout",
     "output_type": "stream",
     "text": [
      "print(17)\n",
      "\n",
      "dic = { 1:\"Lunes\", 2:\"Martes\", 3:\"Miercoles\", 4:\"Jueves\", 5:\"Viernes\" }\n",
      "\n",
      "print(dic.keys())\n"
     ]
    }
   ],
   "source": [
    "fichero = open(\"testes.py\")\n",
    "for linea in fichero:\n",
    "    print(linea)"
   ]
  },
  {
   "cell_type": "code",
   "execution_count": 10,
   "metadata": {},
   "outputs": [
    {
     "data": {
      "text/plain": [
       "['print(17)\\n',\n",
       " 'dic = { 1:\"Lunes\", 2:\"Martes\", 3:\"Miercoles\", 4:\"Jueves\", 5:\"Viernes\" }\\n',\n",
       " 'print(dic.keys())']"
      ]
     },
     "execution_count": 10,
     "metadata": {},
     "output_type": "execute_result"
    }
   ],
   "source": [
    "fichero = open(\"testes.py\")\n",
    "x = fichero.readlines()\n",
    "x"
   ]
  },
  {
   "cell_type": "code",
   "execution_count": 12,
   "metadata": {},
   "outputs": [
    {
     "data": {
      "text/plain": [
       "'print(17)'"
      ]
     },
     "execution_count": 12,
     "metadata": {},
     "output_type": "execute_result"
    }
   ],
   "source": [
    "x[0].rstrip()      # rstrip para eliminar saltos de línea"
   ]
  },
  {
   "cell_type": "code",
   "execution_count": null,
   "metadata": {},
   "outputs": [],
   "source": []
  }
 ],
 "metadata": {
  "kernelspec": {
   "display_name": "Python 3",
   "language": "python",
   "name": "python3"
  },
  "language_info": {
   "codemirror_mode": {
    "name": "ipython",
    "version": 3
   },
   "file_extension": ".py",
   "mimetype": "text/x-python",
   "name": "python",
   "nbconvert_exporter": "python",
   "pygments_lexer": "ipython3",
   "version": "3.6.5"
  }
 },
 "nbformat": 4,
 "nbformat_minor": 2
}
