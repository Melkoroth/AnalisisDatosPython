{
 "cells": [
  {
   "cell_type": "markdown",
   "metadata": {},
   "source": [
    "#  Ejercicios "
   ]
  },
  {
   "cell_type": "markdown",
   "metadata": {},
   "source": [
    "#### 1 Ejercicio"
   ]
  },
  {
   "cell_type": "markdown",
   "metadata": {},
   "source": [
    "Dada la lista L = [ 1, 2, 3, 4, 5, 6, 7, 8, 9 ], escribe expresiones en Python que produzcan los siguientes resultados:\n",
    "\n",
    "1. El primer elemento de la lista.\n",
    "2. El último elemento de la lista (Sin conocer la longitud de la lista).\n",
    "3. La sublista con los dos últimos elementos. (Sol: [8, 9])\n",
    "4. La sublista de los elementos que ocupan posiciones pares. (Sol: [1, 3, 5, 7, 9])\n",
    "4. La sublista de los elementos que ocupan posiciones impares. (Sol: [2, 4, 6, 8])"
   ]
  },
  {
   "cell_type": "code",
   "execution_count": 2,
   "metadata": {},
   "outputs": [
    {
     "data": {
      "text/plain": [
       "1"
      ]
     },
     "execution_count": 2,
     "metadata": {},
     "output_type": "execute_result"
    }
   ],
   "source": [
    "L = [ 1, 2, 3, 4, 5, 6, 7, 8, 9 ]\n",
    "# Sol 1: \n",
    "L[0]"
   ]
  },
  {
   "cell_type": "code",
   "execution_count": 3,
   "metadata": {},
   "outputs": [
    {
     "data": {
      "text/plain": [
       "9"
      ]
     },
     "execution_count": 3,
     "metadata": {},
     "output_type": "execute_result"
    }
   ],
   "source": [
    "# Sol 2: \n",
    "L[-1]"
   ]
  },
  {
   "cell_type": "code",
   "execution_count": 10,
   "metadata": {},
   "outputs": [
    {
     "data": {
      "text/plain": [
       "[8, 9]"
      ]
     },
     "execution_count": 10,
     "metadata": {},
     "output_type": "execute_result"
    }
   ],
   "source": [
    "# Sol 3: \n",
    "L[-2:]"
   ]
  },
  {
   "cell_type": "code",
   "execution_count": 19,
   "metadata": {},
   "outputs": [
    {
     "data": {
      "text/plain": [
       "[1, 3, 5, 7, 9]"
      ]
     },
     "execution_count": 19,
     "metadata": {},
     "output_type": "execute_result"
    }
   ],
   "source": [
    "# Sol 4: \n",
    "L[0::2]"
   ]
  },
  {
   "cell_type": "code",
   "execution_count": 16,
   "metadata": {},
   "outputs": [
    {
     "data": {
      "text/plain": [
       "[2, 4, 6, 8]"
      ]
     },
     "execution_count": 16,
     "metadata": {},
     "output_type": "execute_result"
    }
   ],
   "source": [
    "# Sol 5: \n",
    "L[1::2]"
   ]
  },
  {
   "cell_type": "markdown",
   "metadata": {},
   "source": [
    "#### 2 Ejercicio"
   ]
  },
  {
   "cell_type": "markdown",
   "metadata": {},
   "source": [
    "Dada una lista de enteros a y un número entero n, define:\n",
    "1. una función llamada __contar__ que calcule el número de veces que se repite n en a.\n",
    "2. una función llamada __porcentaje__ que calcule el porcentaje de veces que se repite n en a.\n",
    "\n",
    "_Nota_: utiliza los métodos __len__ y __count__. \n",
    "* Puedes ejecutar __list.count?__ para obtener ayuda del método __count__.\n",
    "* Puedes ejecutar __help(list.count)__ para obtener ayuda del método __count__."
   ]
  },
  {
   "cell_type": "code",
   "execution_count": 24,
   "metadata": {},
   "outputs": [],
   "source": [
    "# Sol: \n",
    "def contar(a, n):\n",
    "    return a.count(n)\n",
    "\n",
    "def porcentaje(a, n):\n",
    "    return a.count(n) / len(a) * 100"
   ]
  },
  {
   "cell_type": "markdown",
   "metadata": {},
   "source": [
    "Prueba las funciones con los argumentos `a = m` y `n = 4`."
   ]
  },
  {
   "cell_type": "code",
   "execution_count": 34,
   "metadata": {},
   "outputs": [
    {
     "name": "stdout",
     "output_type": "stream",
     "text": [
      "3\n",
      "18.75\n"
     ]
    }
   ],
   "source": [
    "# Sol: \n",
    "m = [1, 2, 3, 4, 5, 6, 7, 8, 9, 0, 2, 4, 6, 8, 1, 4]\n",
    "print(contar(m, 4))\n",
    "print(porcentaje(m, 4))"
   ]
  },
  {
   "cell_type": "markdown",
   "metadata": {},
   "source": [
    "#### 3 Ejercicio"
   ]
  },
  {
   "cell_type": "markdown",
   "metadata": {},
   "source": [
    "La función  __upper__ del tipo __string__ genera una nueva cadena de caracteres, donde todos los caracteres son mayúsculas.\n",
    "Dada la siguiente cadena:"
   ]
  },
  {
   "cell_type": "code",
   "execution_count": 20,
   "metadata": {},
   "outputs": [
    {
     "data": {
      "text/plain": [
       "'HOLA, ME LLAMO IÑIGO MONTOYA, TÚ MATASTE A MI PADRE. ... PREPÁRATE A MORIR'"
      ]
     },
     "execution_count": 20,
     "metadata": {},
     "output_type": "execute_result"
    }
   ],
   "source": [
    "# ejecuta esta celda\n",
    "s = 'Hola, me llamo Iñigo Montoya, tú mataste a mi padre. ... Prepárate a morir'\n",
    "s.upper()"
   ]
  },
  {
   "cell_type": "markdown",
   "metadata": {},
   "source": [
    "* Genera una cadena __t__ igual que __s__ pero en mayúsculas. Calcula la longitud de t.\n",
    "* Ejecuta la función  __split(',')__. Fíjate en lo que devuelve esa función. \n",
    "* Ejecuta la función __lower()__.\n",
    "* Ejecuta la función  __title()__.\n",
    "* Ejecuta __dir(str)__ para listar las funciones disponibles para trabajar con cadenas."
   ]
  },
  {
   "cell_type": "code",
   "execution_count": 45,
   "metadata": {},
   "outputs": [
    {
     "name": "stdout",
     "output_type": "stream",
     "text": [
      "74\n",
      "['HOLA', ' ME LLAMO IÑIGO MONTOYA', ' TÚ MATASTE A MI PADRE. ... PREPÁRATE A MORIR']\n",
      "hola, me llamo iñigo montoya, tú mataste a mi padre. ... prepárate a morir\n",
      "Hola, Me Llamo Iñigo Montoya, Tú Mataste A Mi Padre. ... Prepárate A Morir\n"
     ]
    },
    {
     "data": {
      "text/plain": [
       "['__add__',\n",
       " '__class__',\n",
       " '__contains__',\n",
       " '__delattr__',\n",
       " '__dir__',\n",
       " '__doc__',\n",
       " '__eq__',\n",
       " '__format__',\n",
       " '__ge__',\n",
       " '__getattribute__',\n",
       " '__getitem__',\n",
       " '__getnewargs__',\n",
       " '__gt__',\n",
       " '__hash__',\n",
       " '__init__',\n",
       " '__init_subclass__',\n",
       " '__iter__',\n",
       " '__le__',\n",
       " '__len__',\n",
       " '__lt__',\n",
       " '__mod__',\n",
       " '__mul__',\n",
       " '__ne__',\n",
       " '__new__',\n",
       " '__reduce__',\n",
       " '__reduce_ex__',\n",
       " '__repr__',\n",
       " '__rmod__',\n",
       " '__rmul__',\n",
       " '__setattr__',\n",
       " '__sizeof__',\n",
       " '__str__',\n",
       " '__subclasshook__',\n",
       " 'capitalize',\n",
       " 'casefold',\n",
       " 'center',\n",
       " 'count',\n",
       " 'encode',\n",
       " 'endswith',\n",
       " 'expandtabs',\n",
       " 'find',\n",
       " 'format',\n",
       " 'format_map',\n",
       " 'index',\n",
       " 'isalnum',\n",
       " 'isalpha',\n",
       " 'isdecimal',\n",
       " 'isdigit',\n",
       " 'isidentifier',\n",
       " 'islower',\n",
       " 'isnumeric',\n",
       " 'isprintable',\n",
       " 'isspace',\n",
       " 'istitle',\n",
       " 'isupper',\n",
       " 'join',\n",
       " 'ljust',\n",
       " 'lower',\n",
       " 'lstrip',\n",
       " 'maketrans',\n",
       " 'partition',\n",
       " 'replace',\n",
       " 'rfind',\n",
       " 'rindex',\n",
       " 'rjust',\n",
       " 'rpartition',\n",
       " 'rsplit',\n",
       " 'rstrip',\n",
       " 'split',\n",
       " 'splitlines',\n",
       " 'startswith',\n",
       " 'strip',\n",
       " 'swapcase',\n",
       " 'title',\n",
       " 'translate',\n",
       " 'upper',\n",
       " 'zfill']"
      ]
     },
     "execution_count": 45,
     "metadata": {},
     "output_type": "execute_result"
    }
   ],
   "source": [
    "# Sol: \n",
    "s = 'Hola, me llamo Iñigo Montoya, tú mataste a mi padre. ... Prepárate a morir'\n",
    "t = s.upper()\n",
    "print(len(t))\n",
    "#Devuelve una lista de lo que separan las comas\n",
    "print(t.split(','))\n",
    "print(t.lower())\n",
    "print(t.title())\n",
    "dir(str)"
   ]
  },
  {
   "cell_type": "markdown",
   "metadata": {},
   "source": [
    "#### 4 Ejercicio\n",
    "\n",
    "Dada la lista de las ciudades más pobladas de Italia __it__:\n",
    "\n",
    "it = [ 'Roma', 'Milán', 'Nápoles', 'Turín', 'Palermo' , 'Génova',\n",
    "      'Bolonia', 'Florencia', 'Bari', 'Catania']\n",
    "      \n",
    "* Crea un diccionario donde la clave sea la posición que ocupa cada ciudad en la lista. Para hacerlo sigue estas indicaciones:\n",
    "    * Crea una secuencia de enteros mediante la función __range__. El inicio de la secuencia es el cero y el fin de la secuencia es la longitud de la lista de poblaciones de Italia.\n",
    "    * Crea una lista __m__ de tuplas del tipo  (pos, ciudad). Utiliza la función __zip__.\n",
    "    * Utiliza la función __dict__ para construir el diccionario a partir de la lista __m__."
   ]
  },
  {
   "cell_type": "code",
   "execution_count": 56,
   "metadata": {},
   "outputs": [],
   "source": [
    "# El diccionario pedido tiene esta forma:\n",
    "\"\"\"\n",
    "{0: 'Roma',\n",
    " 1: 'Milán',\n",
    " 2: 'Nápoles',\n",
    " 3: 'Turín',\n",
    " 4: 'Palermo',\n",
    " 5: 'Génova',\n",
    " 6: 'Bolonia',\n",
    " 7: 'Florencia',\n",
    " 8: 'Bari',\n",
    " 9: 'Catania'}\n",
    "\"\"\""
   ]
  },
  {
   "cell_type": "code",
   "execution_count": 72,
   "metadata": {},
   "outputs": [
    {
     "name": "stdout",
     "output_type": "stream",
     "text": [
      "{0: 'Roma', 1: 'Milán', 2: 'Nápoles', 3: 'Turín', 4: 'Palermo', 5: 'Génova', 6: 'Bolonia', 7: 'Florencia', 8: 'Bari', 9: 'Catania'}\n"
     ]
    }
   ],
   "source": [
    "# Sol:\n",
    "it = [ 'Roma', 'Milán', 'Nápoles', 'Turín', 'Palermo' , 'Génova', 'Bolonia', 'Florencia', 'Bari', 'Catania']\n",
    "#print(len(it))\n",
    "it1 = range(0,len(it))\n",
    "#for x in it1:\n",
    "#    print(x)\n",
    "m = zip(it1, it)\n",
    "#print(type(m))\n",
    "m = dict(m)\n",
    "print(m)"
   ]
  },
  {
   "cell_type": "markdown",
   "metadata": {},
   "source": [
    "#### 5 Ejercicio\n",
    "\n",
    "La función __convertirF2C__ convierte grados Fahrenheit en grados centígrados. "
   ]
  },
  {
   "cell_type": "code",
   "execution_count": 73,
   "metadata": {},
   "outputs": [],
   "source": [
    "# Ejecuta esta celda\n",
    "def convertirF2C(f):\n",
    "    return  ( f - 32 ) * 5 / 9"
   ]
  },
  {
   "cell_type": "markdown",
   "metadata": {},
   "source": [
    "* Utiliza la función __convertirF2C__ para generar la siguiente tabla de conversión:\n",
    "\n",
    "```\n",
    "0:º F = -17.8º C\n",
    "10:º F = -12.2º C\n",
    "20:º F = -6.7º C\n",
    "    ...\n",
    "100:º F = 37.8º C\n",
    "110:º F = 43.3º C\n",
    "120:º F = 48.9º C\n",
    "```\n",
    "\n",
    "__Nota__:\n",
    "* Genera la lista de valores [0, ... , 120] con la función __range__.\n",
    "* Utiliza un bucle __for__ para calcular los grados centígrados de cada elemento de la lista de valores.\n",
    "* Utiliza los operadores de formato `%d` y `%.1f` para escribir los resultados."
   ]
  },
  {
   "cell_type": "code",
   "execution_count": 80,
   "metadata": {},
   "outputs": [
    {
     "name": "stdout",
     "output_type": "stream",
     "text": [
      "0:º F = -17.8º C\n",
      "1:º F = -17.2º C\n",
      "2:º F = -16.7º C\n",
      "3:º F = -16.1º C\n",
      "4:º F = -15.6º C\n",
      "5:º F = -15.0º C\n",
      "6:º F = -14.4º C\n",
      "7:º F = -13.9º C\n",
      "8:º F = -13.3º C\n",
      "9:º F = -12.8º C\n",
      "10:º F = -12.2º C\n",
      "11:º F = -11.7º C\n",
      "12:º F = -11.1º C\n",
      "13:º F = -10.6º C\n",
      "14:º F = -10.0º C\n",
      "15:º F = -9.4º C\n",
      "16:º F = -8.9º C\n",
      "17:º F = -8.3º C\n",
      "18:º F = -7.8º C\n",
      "19:º F = -7.2º C\n",
      "20:º F = -6.7º C\n",
      "21:º F = -6.1º C\n",
      "22:º F = -5.6º C\n",
      "23:º F = -5.0º C\n",
      "24:º F = -4.4º C\n",
      "25:º F = -3.9º C\n",
      "26:º F = -3.3º C\n",
      "27:º F = -2.8º C\n",
      "28:º F = -2.2º C\n",
      "29:º F = -1.7º C\n",
      "30:º F = -1.1º C\n",
      "31:º F = -0.6º C\n",
      "32:º F = 0.0º C\n",
      "33:º F = 0.6º C\n",
      "34:º F = 1.1º C\n",
      "35:º F = 1.7º C\n",
      "36:º F = 2.2º C\n",
      "37:º F = 2.8º C\n",
      "38:º F = 3.3º C\n",
      "39:º F = 3.9º C\n",
      "40:º F = 4.4º C\n",
      "41:º F = 5.0º C\n",
      "42:º F = 5.6º C\n",
      "43:º F = 6.1º C\n",
      "44:º F = 6.7º C\n",
      "45:º F = 7.2º C\n",
      "46:º F = 7.8º C\n",
      "47:º F = 8.3º C\n",
      "48:º F = 8.9º C\n",
      "49:º F = 9.4º C\n",
      "50:º F = 10.0º C\n",
      "51:º F = 10.6º C\n",
      "52:º F = 11.1º C\n",
      "53:º F = 11.7º C\n",
      "54:º F = 12.2º C\n",
      "55:º F = 12.8º C\n",
      "56:º F = 13.3º C\n",
      "57:º F = 13.9º C\n",
      "58:º F = 14.4º C\n",
      "59:º F = 15.0º C\n",
      "60:º F = 15.6º C\n",
      "61:º F = 16.1º C\n",
      "62:º F = 16.7º C\n",
      "63:º F = 17.2º C\n",
      "64:º F = 17.8º C\n",
      "65:º F = 18.3º C\n",
      "66:º F = 18.9º C\n",
      "67:º F = 19.4º C\n",
      "68:º F = 20.0º C\n",
      "69:º F = 20.6º C\n",
      "70:º F = 21.1º C\n",
      "71:º F = 21.7º C\n",
      "72:º F = 22.2º C\n",
      "73:º F = 22.8º C\n",
      "74:º F = 23.3º C\n",
      "75:º F = 23.9º C\n",
      "76:º F = 24.4º C\n",
      "77:º F = 25.0º C\n",
      "78:º F = 25.6º C\n",
      "79:º F = 26.1º C\n",
      "80:º F = 26.7º C\n",
      "81:º F = 27.2º C\n",
      "82:º F = 27.8º C\n",
      "83:º F = 28.3º C\n",
      "84:º F = 28.9º C\n",
      "85:º F = 29.4º C\n",
      "86:º F = 30.0º C\n",
      "87:º F = 30.6º C\n",
      "88:º F = 31.1º C\n",
      "89:º F = 31.7º C\n",
      "90:º F = 32.2º C\n",
      "91:º F = 32.8º C\n",
      "92:º F = 33.3º C\n",
      "93:º F = 33.9º C\n",
      "94:º F = 34.4º C\n",
      "95:º F = 35.0º C\n",
      "96:º F = 35.6º C\n",
      "97:º F = 36.1º C\n",
      "98:º F = 36.7º C\n",
      "99:º F = 37.2º C\n",
      "100:º F = 37.8º C\n",
      "101:º F = 38.3º C\n",
      "102:º F = 38.9º C\n",
      "103:º F = 39.4º C\n",
      "104:º F = 40.0º C\n",
      "105:º F = 40.6º C\n",
      "106:º F = 41.1º C\n",
      "107:º F = 41.7º C\n",
      "108:º F = 42.2º C\n",
      "109:º F = 42.8º C\n",
      "110:º F = 43.3º C\n",
      "111:º F = 43.9º C\n",
      "112:º F = 44.4º C\n",
      "113:º F = 45.0º C\n",
      "114:º F = 45.6º C\n",
      "115:º F = 46.1º C\n",
      "116:º F = 46.7º C\n",
      "117:º F = 47.2º C\n",
      "118:º F = 47.8º C\n",
      "119:º F = 48.3º C\n",
      "120:º F = 48.9º C\n"
     ]
    }
   ],
   "source": [
    "# Sol:\n",
    "for i in range(121):\n",
    "    txt = \"%d:º F = %.1fº C\" % (i, convertirF2C(i))\n",
    "    print(txt)"
   ]
  },
  {
   "cell_type": "markdown",
   "metadata": {},
   "source": [
    "#### 6 Ejercicio\n",
    "\n",
    "Los 15 primeros números triangulares son:\n",
    "\n",
    "```\n",
    "[0, 1, 3, 6, 10, 15, 21, 28, 36, 45, 55, 66, 78, 91, 105]\n",
    "```\n",
    "\n",
    "Define una función __triang_1__ que reciba un número entero positivo $n$ como argumento y genere la lista de los `n` primeros números triangulares. Resuelve el problema aplicando la fórmula a_n = n * (n + 1) / 2. __Utiliza listas por comprensión__.\n",
    "\n",
    "__Nota:__\n",
    "\n",
    "* Genera primero los n primeros números comenzando por el 0 y utilizando la función __range__.\n",
    "\n",
    "\n"
   ]
  },
  {
   "cell_type": "code",
   "execution_count": 86,
   "metadata": {},
   "outputs": [
    {
     "name": "stdout",
     "output_type": "stream",
     "text": [
      "[0, 1, 3, 6, 10, 15, 21, 28, 36, 45, 55, 66, 78, 91, 105]\n"
     ]
    }
   ],
   "source": [
    "# Sol:\n",
    "def triang_1(n):\n",
    "    return [int(n * (n + 1) / 2) for n in range(n)]\n",
    "print(triang_1(15))"
   ]
  },
  {
   "cell_type": "raw",
   "metadata": {},
   "source": [
    "#### 7 Ejercicio\n",
    "\n",
    "Dado el diccionario de las ciudades más pobladas de Italia __ciudades__:\n",
    "\n",
    "d =  { 1: 'Roma', 2: 'Milán', 3:'Nápoles', 4:'Turín', 5:'Palermo' ,6: 'Génova',\n",
    "      7:'Bolonia', 8:'Florencia', 9:'Bari', 10:'Catania'}\n",
    "      \n",
    "y la lista __pob__ que contiene información de la cantidad de población en cada ciudad:\n",
    "\n",
    "pob =  [2718768, 1299633, 973132, 908263, 663173, 610887, 372256, 364710, 322511, 298957]\n",
    "\n",
    "* crea un nuevo diccionario donde cada elemento sea de la forma\n",
    "\n",
    "i: [ciudad,poblacion]\n",
    "\n",
    "__Nota__: Utiliza listas por comprensión. La función __enumerate__ también te puede ayudar."
   ]
  },
  {
   "cell_type": "code",
   "execution_count": 262,
   "metadata": {},
   "outputs": [
    {
     "data": {
      "text/plain": [
       "{1: ['Roma', 2718768],\n",
       " 2: ['Milán', 1299633],\n",
       " 3: ['Nápoles', 973132],\n",
       " 4: ['Turín', 908263],\n",
       " 5: ['Palermo', 663173],\n",
       " 6: ['Génova', 610887],\n",
       " 7: ['Bolonia', 372256],\n",
       " 8: ['Florencia', 364710],\n",
       " 9: ['Bari', 322511],\n",
       " 10: ['Catania', 298957]}"
      ]
     },
     "execution_count": 262,
     "metadata": {},
     "output_type": "execute_result"
    }
   ],
   "source": [
    "pob = [2718768, 1299633, 973132, 908263, 663173, 610887, 372256, 364710, \n",
    "       322511, 298957]\n",
    "d = { 1: 'Roma', 2: 'Milán', 3:'Nápoles', 4:'Turín', 5:'Palermo' ,\n",
    "     6: 'Génova',   \\\n",
    "      7:'Bolonia', 8:'Florencia', 9:'Bari', 10:'Catania'}\n",
    "# Sol\n",
    "# Genera lista de pares [ciudad, poblacion]\n",
    "valueList = [[d[i], pob[i-1]] for i in d]\n",
    "#print(nameList)\n",
    "#Reemplaza en d los valores\n",
    "for i in d:\n",
    "    d[i] = valueList[i-1]\n",
    "d\n",
    "#Por alguna extraña razón aquí dentro no funciona la función dict()"
   ]
  },
  {
   "cell_type": "markdown",
   "metadata": {},
   "source": [
    "-------------------"
   ]
  }
 ],
 "metadata": {
  "anaconda-cloud": {},
  "kernelspec": {
   "display_name": "Python 3",
   "language": "python",
   "name": "python3"
  },
  "language_info": {
   "codemirror_mode": {
    "name": "ipython",
    "version": 3
   },
   "file_extension": ".py",
   "mimetype": "text/x-python",
   "name": "python",
   "nbconvert_exporter": "python",
   "pygments_lexer": "ipython3",
   "version": "3.6.5"
  }
 },
 "nbformat": 4,
 "nbformat_minor": 1
}
