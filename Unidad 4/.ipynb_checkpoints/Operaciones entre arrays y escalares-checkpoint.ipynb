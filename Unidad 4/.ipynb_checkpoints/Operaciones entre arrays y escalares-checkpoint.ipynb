{
 "cells": [
  {
   "cell_type": "code",
   "execution_count": 1,
   "metadata": {},
   "outputs": [],
   "source": [
    "# Operaciones entre arrays\n",
    "import numpy as np\n",
    "\n",
    "a = np.array([1,2,3], float)\n",
    "b = np.array([5,2,6], float)\n",
    "rs = a + b \n",
    "rr = a - b \n",
    "rp = a * b\n",
    "rd = b / a \n",
    "rm = a % b\n",
    "re = b ** a\n",
    "# Operaciones entre arrays y escalares\n",
    "rp_esc = a * 10\n",
    "re_esc = b ** 2"
   ]
  },
  {
   "cell_type": "code",
   "execution_count": 2,
   "metadata": {},
   "outputs": [
    {
     "name": "stdout",
     "output_type": "stream",
     "text": [
      "suma:      [6. 4. 9.]\n",
      "producto:  [ 5.  4. 18.]\n",
      "potencia:  [  5.   4. 216.]\n",
      "[10. 20. 30.]\n"
     ]
    }
   ],
   "source": [
    "print(\"suma:     \", rs)\n",
    "print(\"producto: \", rp)\n",
    "print(\"potencia: \", re)\n",
    "print(rp_esc)"
   ]
  },
  {
   "cell_type": "code",
   "execution_count": 3,
   "metadata": {},
   "outputs": [
    {
     "name": "stdout",
     "output_type": "stream",
     "text": [
      "[[1. 2.]\n",
      " [3. 4.]]\n",
      "[[2. 0.]\n",
      " [1. 3.]]\n"
     ]
    }
   ],
   "source": [
    "\n",
    "\n",
    "a = np.array([[1,2], [3,4]], float)\n",
    "b = np.array([[2,0], [1,3]], float)\n",
    "print(a)\n",
    "print(b)\n",
    "\n"
   ]
  },
  {
   "cell_type": "code",
   "execution_count": 4,
   "metadata": {},
   "outputs": [
    {
     "name": "stdout",
     "output_type": "stream",
     "text": [
      "[[ 2.  0.]\n",
      " [ 3. 12.]]\n"
     ]
    }
   ],
   "source": [
    "\n",
    "\n",
    "p = a * b\n",
    "print (p)\n"
   ]
  },
  {
   "cell_type": "code",
   "execution_count": 5,
   "metadata": {},
   "outputs": [
    {
     "data": {
      "text/plain": [
       "array([[5, 4],\n",
       "       [3, 4]])"
      ]
     },
     "execution_count": 5,
     "metadata": {},
     "output_type": "execute_result"
    }
   ],
   "source": [
    "\n",
    "\n",
    "A = np.array( [[1,1],\n",
    "            [0,1]] )\n",
    "B = np.array( [[2,0],\n",
    "            [3,4]] )\n",
    "M = np.dot(A,B)                    # producto matricial\n",
    "M\n",
    "\n"
   ]
  },
  {
   "cell_type": "code",
   "execution_count": 6,
   "metadata": {},
   "outputs": [
    {
     "data": {
      "text/plain": [
       "array([15.38696935,  3.84917419, -1.64708903, 11.71320033, -2.65510265,\n",
       "       -5.55610556])"
      ]
     },
     "execution_count": 6,
     "metadata": {},
     "output_type": "execute_result"
    }
   ],
   "source": [
    "\n",
    "\n",
    "# creamos un array con valores aleatorios\n",
    "a = np.random.randn(6) * 10    # randn : distribución normal\n",
    "a\n",
    "\n",
    "                                                                                                                                                                                                                                                                                                                                                                                                                                                                                                                                                                                                                                                                                                                                                                                                                                                                                                                                                                                                                                                                                                                                                                                                            "
   ]
  },
  {
   "cell_type": "code",
   "execution_count": 7,
   "metadata": {},
   "outputs": [
    {
     "data": {
      "text/plain": [
       "array([15.38696935,  3.84917419,  1.64708903, 11.71320033,  2.65510265,\n",
       "        5.55610556])"
      ]
     },
     "execution_count": 7,
     "metadata": {},
     "output_type": "execute_result"
    }
   ],
   "source": [
    "\n",
    "\n",
    "b = abs(a)\n",
    "b\n",
    "\n"
   ]
  },
  {
   "cell_type": "code",
   "execution_count": 8,
   "metadata": {},
   "outputs": [
    {
     "data": {
      "text/plain": [
       "array([2, 3, 4])"
      ]
     },
     "execution_count": 8,
     "metadata": {},
     "output_type": "execute_result"
    }
   ],
   "source": [
    "\n",
    "\n",
    "a = np.array([2,3,4])\n",
    "a\n",
    "\n"
   ]
  },
  {
   "cell_type": "code",
   "execution_count": 9,
   "metadata": {},
   "outputs": [
    {
     "data": {
      "text/plain": [
       "array([ 4,  9, 16])"
      ]
     },
     "execution_count": 9,
     "metadata": {},
     "output_type": "execute_result"
    }
   ],
   "source": [
    "b = np.square(a)\n",
    "b"
   ]
  },
  {
   "cell_type": "code",
   "execution_count": 10,
   "metadata": {},
   "outputs": [
    {
     "data": {
      "text/plain": [
       "array([2., 3., 4.])"
      ]
     },
     "execution_count": 10,
     "metadata": {},
     "output_type": "execute_result"
    }
   ],
   "source": [
    "np.sqrt(b)"
   ]
  },
  {
   "cell_type": "code",
   "execution_count": 11,
   "metadata": {},
   "outputs": [
    {
     "data": {
      "text/plain": [
       "array([2., 3., 4.])"
      ]
     },
     "execution_count": 11,
     "metadata": {},
     "output_type": "execute_result"
    }
   ],
   "source": [
    "np.sqrt(b)                                               "
   ]
  },
  {
   "cell_type": "code",
   "execution_count": 12,
   "metadata": {},
   "outputs": [
    {
     "data": {
      "text/plain": [
       "(array([2, 3, 4]), array([ 4,  9, 16]))"
      ]
     },
     "execution_count": 12,
     "metadata": {},
     "output_type": "execute_result"
    }
   ],
   "source": [
    "a, b"
   ]
  },
  {
   "cell_type": "code",
   "execution_count": 16,
   "metadata": {},
   "outputs": [
    {
     "data": {
      "text/plain": [
       "array([2, 3, 6])"
      ]
     },
     "execution_count": 16,
     "metadata": {},
     "output_type": "execute_result"
    }
   ],
   "source": [
    "c = [1,2,6]\n",
    "np.maximum(a,c)                                                  "
   ]
  },
  {
   "cell_type": "code",
   "execution_count": 17,
   "metadata": {},
   "outputs": [
    {
     "data": {
      "text/plain": [
       "array([False, False, False])"
      ]
     },
     "execution_count": 17,
     "metadata": {},
     "output_type": "execute_result"
    }
   ],
   "source": [
    "np.greater_equal(a,b)    # equivalente al operador  >="
   ]
  },
  {
   "cell_type": "code",
   "execution_count": 18,
   "metadata": {},
   "outputs": [
    {
     "data": {
      "text/plain": [
       "array([ 5. ,  5.2,  5.4,  5.6,  5.8,  6. ,  6.2,  6.4,  6.6,  6.8,  7. ,\n",
       "        7.2,  7.4,  7.6,  7.8,  8. ,  8.2,  8.4,  8.6,  8.8,  9. ,  9.2,\n",
       "        9.4,  9.6,  9.8, 10. , 10.2, 10.4, 10.6, 10.8, 11. , 11.2, 11.4,\n",
       "       11.6, 11.8, 12. , 12.2, 12.4, 12.6, 12.8, 13. , 13.2, 13.4, 13.6,\n",
       "       13.8, 14. , 14.2, 14.4, 14.6, 14.8, 15. , 15.2, 15.4, 15.6, 15.8,\n",
       "       16. , 16.2, 16.4, 16.6, 16.8, 17. , 17.2, 17.4, 17.6, 17.8, 18. ,\n",
       "       18.2, 18.4, 18.6, 18.8, 19. , 19.2, 19.4, 19.6, 19.8, 20. , 20.2,\n",
       "       20.4, 20.6, 20.8, 21. , 21.2, 21.4, 21.6, 21.8, 22. , 22.2, 22.4,\n",
       "       22.6, 22.8, 23. , 23.2, 23.4, 23.6, 23.8, 24. , 24.2, 24.4, 24.6,\n",
       "       24.8, 25. , 25.2, 25.4, 25.6, 25.8, 26. , 26.2, 26.4, 26.6, 26.8,\n",
       "       27. , 27.2, 27.4, 27.6, 27.8, 28. , 28.2, 28.4, 28.6, 28.8, 29. ,\n",
       "       29.2, 29.4, 29.6, 29.8, 30. , 30.2, 30.4, 30.6, 30.8, 31. , 31.2,\n",
       "       31.4, 31.6, 31.8, 32. , 32.2, 32.4, 32.6, 32.8, 33. , 33.2, 33.4,\n",
       "       33.6, 33.8, 34. , 34.2, 34.4, 34.6, 34.8, 35. , 35.2, 35.4, 35.6,\n",
       "       35.8, 36. , 36.2, 36.4, 36.6, 36.8, 37. , 37.2, 37.4, 37.6, 37.8,\n",
       "       38. , 38.2, 38.4, 38.6, 38.8, 39. , 39.2, 39.4, 39.6, 39.8, 40. ,\n",
       "       40.2, 40.4, 40.6, 40.8, 41. , 41.2, 41.4, 41.6, 41.8, 42. , 42.2,\n",
       "       42.4, 42.6, 42.8, 43. , 43.2, 43.4, 43.6, 43.8, 44. , 44.2, 44.4,\n",
       "       44.6, 44.8, 45. , 45.2, 45.4, 45.6, 45.8, 46. , 46.2, 46.4, 46.6,\n",
       "       46.8, 47. , 47.2, 47.4, 47.6, 47.8, 48. , 48.2, 48.4, 48.6, 48.8,\n",
       "       49. , 49.2, 49.4, 49.6, 49.8, 50. , 50.2, 50.4, 50.6, 50.8, 51. ,\n",
       "       51.2, 51.4, 51.6, 51.8, 52. , 52.2, 52.4, 52.6, 52.8, 53. , 53.2,\n",
       "       53.4, 53.6, 53.8, 54. , 54.2, 54.4, 54.6, 54.8, 55. , 55.2, 55.4,\n",
       "       55.6, 55.8, 56. , 56.2, 56.4, 56.6, 56.8, 57. , 57.2, 57.4, 57.6,\n",
       "       57.8, 58. , 58.2, 58.4, 58.6, 58.8, 59. , 59.2, 59.4, 59.6, 59.8,\n",
       "       60. , 60.2, 60.4, 60.6, 60.8, 61. , 61.2, 61.4, 61.6, 61.8, 62. ,\n",
       "       62.2, 62.4, 62.6, 62.8, 63. , 63.2, 63.4, 63.6, 63.8, 64. , 64.2,\n",
       "       64.4, 64.6, 64.8, 65. , 65.2, 65.4, 65.6, 65.8, 66. , 66.2, 66.4,\n",
       "       66.6, 66.8, 67. , 67.2, 67.4, 67.6, 67.8, 68. , 68.2, 68.4, 68.6,\n",
       "       68.8, 69. , 69.2, 69.4, 69.6, 69.8, 70. , 70.2, 70.4, 70.6, 70.8,\n",
       "       71. , 71.2, 71.4, 71.6, 71.8, 72. , 72.2, 72.4, 72.6, 72.8, 73. ,\n",
       "       73.2, 73.4, 73.6, 73.8, 74. , 74.2, 74.4, 74.6, 74.8, 75. , 75.2,\n",
       "       75.4, 75.6, 75.8, 76. , 76.2, 76.4, 76.6, 76.8, 77. , 77.2, 77.4,\n",
       "       77.6, 77.8, 78. , 78.2, 78.4, 78.6, 78.8, 79. , 79.2, 79.4, 79.6,\n",
       "       79.8, 80. , 80.2, 80.4, 80.6, 80.8, 81. , 81.2, 81.4, 81.6, 81.8,\n",
       "       82. , 82.2, 82.4, 82.6, 82.8, 83. , 83.2, 83.4, 83.6, 83.8, 84. ,\n",
       "       84.2, 84.4, 84.6, 84.8, 85. , 85.2, 85.4, 85.6, 85.8, 86. , 86.2,\n",
       "       86.4, 86.6, 86.8, 87. , 87.2, 87.4, 87.6, 87.8, 88. , 88.2, 88.4,\n",
       "       88.6, 88.8, 89. , 89.2, 89.4, 89.6, 89.8, 90. , 90.2, 90.4, 90.6,\n",
       "       90.8, 91. , 91.2, 91.4, 91.6, 91.8, 92. , 92.2, 92.4, 92.6, 92.8,\n",
       "       93. , 93.2, 93.4, 93.6, 93.8, 94. , 94.2, 94.4, 94.6, 94.8, 95. ,\n",
       "       95.2, 95.4, 95.6, 95.8, 96. , 96.2, 96.4, 96.6, 96.8, 97. , 97.2,\n",
       "       97.4, 97.6, 97.8, 98. , 98.2, 98.4, 98.6, 98.8, 99. , 99.2, 99.4,\n",
       "       99.6, 99.8])"
      ]
     },
     "execution_count": 18,
     "metadata": {},
     "output_type": "execute_result"
    }
   ],
   "source": [
    "\n",
    "\n",
    "np.arange(5, 100, 0.2)\n",
    "\n"
   ]
  },
  {
   "cell_type": "code",
   "execution_count": null,
   "metadata": {},
   "outputs": [],
   "source": []
  }
 ],
 "metadata": {
  "kernelspec": {
   "display_name": "Python 3",
   "language": "python",
   "name": "python3"
  },
  "language_info": {
   "codemirror_mode": {
    "name": "ipython",
    "version": 3
   },
   "file_extension": ".py",
   "mimetype": "text/x-python",
   "name": "python",
   "nbconvert_exporter": "python",
   "pygments_lexer": "ipython3",
   "version": "3.6.5"
  }
 },
 "nbformat": 4,
 "nbformat_minor": 2
}
