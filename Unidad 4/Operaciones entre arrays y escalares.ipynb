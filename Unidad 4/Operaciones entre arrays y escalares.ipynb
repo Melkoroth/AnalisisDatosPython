{
 "cells": [
  {
   "cell_type": "code",
   "execution_count": 1,
   "metadata": {},
   "outputs": [],
   "source": [
    "# Operaciones entre arrays\n",
    "import numpy as np\n",
    "\n",
    "a = np.array([1,2,3], float)\n",
    "b = np.array([5,2,6], float)\n",
    "rs = a + b \n",
    "rr = a - b \n",
    "rp = a * b\n",
    "rd = b / a \n",
    "rm = a % b\n",
    "re = b ** a\n",
    "# Operaciones entre arrays y escalares\n",
    "rp_esc = a * 10\n",
    "re_esc = b ** 2"
   ]
  },
  {
   "cell_type": "code",
   "execution_count": 2,
   "metadata": {},
   "outputs": [
    {
     "name": "stdout",
     "output_type": "stream",
     "text": [
      "suma:      [6. 4. 9.]\n",
      "producto:  [ 5.  4. 18.]\n",
      "potencia:  [  5.   4. 216.]\n",
      "[10. 20. 30.]\n"
     ]
    }
   ],
   "source": [
    "print(\"suma:     \", rs)\n",
    "print(\"producto: \", rp)\n",
    "print(\"potencia: \", re)\n",
    "print(rp_esc)"
   ]
  },
  {
   "cell_type": "code",
   "execution_count": null,
   "metadata": {},
   "outputs": [],
   "source": []
  }
 ],
 "metadata": {
  "kernelspec": {
   "display_name": "Python 3",
   "language": "python",
   "name": "python3"
  },
  "language_info": {
   "codemirror_mode": {
    "name": "ipython",
    "version": 3
   },
   "file_extension": ".py",
   "mimetype": "text/x-python",
   "name": "python",
   "nbconvert_exporter": "python",
   "pygments_lexer": "ipython3",
   "version": "3.6.5"
  }
 },
 "nbformat": 4,
 "nbformat_minor": 2
}
