{
 "cells": [
  {
   "cell_type": "code",
   "execution_count": 6,
   "metadata": {},
   "outputs": [
    {
     "data": {
      "text/plain": [
       "array([2, 3, 4])"
      ]
     },
     "execution_count": 6,
     "metadata": {},
     "output_type": "execute_result"
    }
   ],
   "source": [
    "from numpy import array    # Importamos solo la función array\n",
    "a = array( [2,3,4] )       \n",
    "a"
   ]
  },
  {
   "cell_type": "code",
   "execution_count": 7,
   "metadata": {},
   "outputs": [
    {
     "data": {
      "text/plain": [
       "array([2, 3, 4])"
      ]
     },
     "execution_count": 7,
     "metadata": {},
     "output_type": "execute_result"
    }
   ],
   "source": [
    "import numpy                      # Importamos todo el módulo\n",
    "a = numpy.array( [2,3,4] )       \n",
    "a"
   ]
  },
  {
   "cell_type": "code",
   "execution_count": 8,
   "metadata": {},
   "outputs": [
    {
     "data": {
      "text/plain": [
       "array([2, 3, 4])"
      ]
     },
     "execution_count": 8,
     "metadata": {},
     "output_type": "execute_result"
    }
   ],
   "source": [
    "import numpy as np\n",
    "a = np.array( [2,3,4] )       # se accede con el alias a la función array\n",
    "a"
   ]
  },
  {
   "cell_type": "code",
   "execution_count": 1,
   "metadata": {},
   "outputs": [
    {
     "data": {
      "text/plain": [
       "0.5290826861200238"
      ]
     },
     "execution_count": 1,
     "metadata": {},
     "output_type": "execute_result"
    }
   ],
   "source": [
    "import math as mt\n",
    "mt.sin(34)"
   ]
  },
  {
   "cell_type": "code",
   "execution_count": 2,
   "metadata": {},
   "outputs": [
    {
     "data": {
      "text/plain": [
       "3.141592653589793"
      ]
     },
     "execution_count": 2,
     "metadata": {},
     "output_type": "execute_result"
    }
   ],
   "source": [
    "mt.pi"
   ]
  },
  {
   "cell_type": "code",
   "execution_count": 3,
   "metadata": {},
   "outputs": [
    {
     "data": {
      "text/plain": [
       "4.898979485566356"
      ]
     },
     "execution_count": 3,
     "metadata": {},
     "output_type": "execute_result"
    }
   ],
   "source": [
    "\n",
    "\n",
    "mt.sqrt(24)\n",
    "\n"
   ]
  },
  {
   "cell_type": "code",
   "execution_count": 5,
   "metadata": {
    "scrolled": true
   },
   "outputs": [
    {
     "data": {
      "text/plain": [
       "['__doc__',\n",
       " '__file__',\n",
       " '__loader__',\n",
       " '__name__',\n",
       " '__package__',\n",
       " '__spec__',\n",
       " 'acos',\n",
       " 'acosh',\n",
       " 'asin',\n",
       " 'asinh',\n",
       " 'atan',\n",
       " 'atan2',\n",
       " 'atanh',\n",
       " 'ceil',\n",
       " 'copysign',\n",
       " 'cos',\n",
       " 'cosh',\n",
       " 'degrees',\n",
       " 'e',\n",
       " 'erf',\n",
       " 'erfc',\n",
       " 'exp',\n",
       " 'expm1',\n",
       " 'fabs',\n",
       " 'factorial',\n",
       " 'floor',\n",
       " 'fmod',\n",
       " 'frexp',\n",
       " 'fsum',\n",
       " 'gamma',\n",
       " 'gcd',\n",
       " 'hypot',\n",
       " 'inf',\n",
       " 'isclose',\n",
       " 'isfinite',\n",
       " 'isinf',\n",
       " 'isnan',\n",
       " 'ldexp',\n",
       " 'lgamma',\n",
       " 'log',\n",
       " 'log10',\n",
       " 'log1p',\n",
       " 'log2',\n",
       " 'modf',\n",
       " 'nan',\n",
       " 'pi',\n",
       " 'pow',\n",
       " 'radians',\n",
       " 'sin',\n",
       " 'sinh',\n",
       " 'sqrt',\n",
       " 'tan',\n",
       " 'tanh',\n",
       " 'tau',\n",
       " 'trunc']"
      ]
     },
     "execution_count": 5,
     "metadata": {},
     "output_type": "execute_result"
    }
   ],
   "source": [
    "dir(mt)"
   ]
  },
  {
   "cell_type": "code",
   "execution_count": 9,
   "metadata": {},
   "outputs": [
    {
     "name": "stdout",
     "output_type": "stream",
     "text": [
      "# packages in environment at /home/ender/anaconda3:\r\n",
      "#\r\n",
      "# Name                    Version                   Build  Channel\r\n",
      "_ipyw_jlab_nb_ext_conf    0.1.0            py36he11e457_0  \r\n",
      "alabaster                 0.7.10           py36h306e16b_0  \r\n",
      "anaconda                  5.2.0                    py36_3  \r\n",
      "anaconda-client           1.6.14                   py36_0  \r\n",
      "anaconda-navigator        1.8.7                    py36_0  \r\n",
      "anaconda-project          0.8.2            py36h44fb852_0  \r\n",
      "asn1crypto                0.24.0                   py36_0  \r\n",
      "astroid                   1.6.3                    py36_0  \r\n",
      "astropy                   3.0.2            py36h3010b51_1  \r\n",
      "attrs                     18.1.0                   py36_0  \r\n",
      "babel                     2.5.3                    py36_0  \r\n",
      "backcall                  0.1.0                    py36_0  \r\n",
      "backports                 1.0              py36hfa02d7e_1  \r\n",
      "backports.shutil_get_terminal_size 1.0.0            py36hfea85ff_2  \r\n",
      "beautifulsoup4            4.6.0            py36h49b8c8c_1  \r\n",
      "bitarray                  0.8.1            py36h14c3975_1  \r\n",
      "bkcharts                  0.2              py36h735825a_0  \r\n",
      "blas                      1.0                         mkl  \r\n",
      "blaze                     0.11.3           py36h4e06776_0  \r\n",
      "bleach                    2.1.3                    py36_0  \r\n",
      "blosc                     1.14.3               hdbcaa40_0  \r\n",
      "bokeh                     0.12.16                  py36_0  \r\n",
      "boto                      2.48.0           py36h6e4cd66_1  \r\n",
      "bottleneck                1.2.1            py36haac1ea0_0  \r\n",
      "bzip2                     1.0.6                h14c3975_5  \r\n",
      "ca-certificates           2018.03.07                    0  \r\n",
      "cairo                     1.14.12              h7636065_2  \r\n",
      "certifi                   2018.4.16                py36_0  \r\n",
      "cffi                      1.11.5           py36h9745a5d_0  \r\n",
      "chardet                   3.0.4            py36h0f667ec_1  \r\n",
      "click                     6.7              py36h5253387_0  \r\n",
      "cloudpickle               0.5.3                    py36_0  \r\n",
      "clyent                    1.2.2            py36h7e57e65_1  \r\n",
      "colorama                  0.3.9            py36h489cec4_0  \r\n",
      "conda                     4.5.4                    py36_0  \r\n",
      "conda-build               3.10.5                   py36_0  \r\n",
      "conda-env                 2.6.0                h36134e3_1  \r\n",
      "conda-verify              2.0.0            py36h98955d8_0  \r\n",
      "contextlib2               0.5.5            py36h6c84a62_0  \r\n",
      "cryptography              2.2.2            py36h14c3975_0  \r\n",
      "curl                      7.60.0               h84994c4_0  \r\n",
      "cycler                    0.10.0           py36h93f1223_0  \r\n",
      "cython                    0.28.2           py36h14c3975_0  \r\n",
      "cytoolz                   0.9.0.1          py36h14c3975_0  \r\n",
      "dask                      0.17.5                   py36_0  \r\n",
      "dask-core                 0.17.5                   py36_0  \r\n",
      "datashape                 0.5.4            py36h3ad6b5c_0  \r\n",
      "dbus                      1.13.2               h714fa37_1  \r\n",
      "decorator                 4.3.0                    py36_0  \r\n",
      "distributed               1.21.8                   py36_0  \r\n",
      "docutils                  0.14             py36hb0f60f5_0  \r\n",
      "entrypoints               0.2.3            py36h1aec115_2  \r\n",
      "et_xmlfile                1.0.1            py36hd6bccc3_0  \r\n",
      "expat                     2.2.5                he0dffb1_0  \r\n",
      "fastcache                 1.0.2            py36h14c3975_2  \r\n",
      "filelock                  3.0.4                    py36_0  \r\n",
      "flask                     1.0.2                    py36_1  \r\n",
      "flask-cors                3.0.4                    py36_0  \r\n",
      "fontconfig                2.12.6               h49f89f6_0  \r\n",
      "freetype                  2.8                  hab7d2ae_1  \r\n",
      "get_terminal_size         1.0.0                haa9412d_0  \r\n",
      "gevent                    1.3.0            py36h14c3975_0  \r\n",
      "glib                      2.56.1               h000015b_0  \r\n",
      "glob2                     0.6              py36he249c77_0  \r\n",
      "gmp                       6.1.2                h6c8ec71_1  \r\n",
      "gmpy2                     2.0.8            py36hc8893dd_2  \r\n",
      "graphite2                 1.3.11               h16798f4_2  \r\n",
      "greenlet                  0.4.13           py36h14c3975_0  \r\n",
      "gst-plugins-base          1.14.0               hbbd80ab_1  \r\n",
      "gstreamer                 1.14.0               hb453b48_1  \r\n",
      "h5py                      2.7.1            py36ha1f6525_2  \r\n",
      "harfbuzz                  1.7.6                h5f0a787_1  \r\n",
      "hdf5                      1.10.2               hba1933b_1  \r\n",
      "heapdict                  1.0.0                    py36_2  \r\n",
      "html5lib                  1.0.1            py36h2f9c1c0_0  \r\n",
      "icu                       58.2                 h9c2bf20_1  \r\n",
      "idna                      2.6              py36h82fb2a8_1  \r\n",
      "imageio                   2.3.0                    py36_0  \r\n",
      "imagesize                 1.0.0                    py36_0  \r\n",
      "intel-openmp              2018.0.0                      8  \r\n",
      "ipykernel                 4.8.2                    py36_0  \r\n",
      "ipython                   6.4.0                    py36_0  \r\n",
      "ipython_genutils          0.2.0            py36hb52b0d5_0  \r\n",
      "ipywidgets                7.2.1                    py36_0  \r\n",
      "isort                     4.3.4                    py36_0  \r\n",
      "itsdangerous              0.24             py36h93cc618_1  \r\n",
      "jbig                      2.1                  hdba287a_0  \r\n",
      "jdcal                     1.4                      py36_0  \r\n",
      "jedi                      0.12.0                   py36_1  \r\n",
      "jinja2                    2.10             py36ha16c418_0  \r\n",
      "jpeg                      9b                   h024ee3a_2  \r\n",
      "jsonschema                2.6.0            py36h006f8b5_0  \r\n",
      "jupyter                   1.0.0                    py36_4  \r\n",
      "jupyter_client            5.2.3                    py36_0  \r\n",
      "jupyter_console           5.2.0            py36he59e554_1  \r\n",
      "jupyter_core              4.4.0            py36h7c827e3_0  \r\n",
      "jupyterlab                0.32.1                   py36_0  \r\n",
      "jupyterlab_launcher       0.10.5                   py36_0  \r\n",
      "kiwisolver                1.0.1            py36h764f252_0  \r\n",
      "lazy-object-proxy         1.3.1            py36h10fcdad_0  \r\n",
      "libcurl                   7.60.0               h1ad7b7a_0  \r\n",
      "libedit                   3.1.20170329         h6b74fdf_2  \r\n",
      "libffi                    3.2.1                hd88cf55_4  \r\n",
      "libgcc-ng                 7.2.0                hdf63c60_3  \r\n",
      "libgfortran-ng            7.2.0                hdf63c60_3  \r\n",
      "libpng                    1.6.34               hb9fc6fc_0  \r\n",
      "libsodium                 1.0.16               h1bed415_0  \r\n",
      "libssh2                   1.8.0                h9cfc8f7_4  \r\n",
      "libstdcxx-ng              7.2.0                hdf63c60_3  \r\n",
      "libtiff                   4.0.9                he85c1e1_1  \r\n",
      "libtool                   2.4.6                h544aabb_3  \r\n",
      "libxcb                    1.13                 h1bed415_1  \r\n",
      "libxml2                   2.9.8                h26e45fe_1  \r\n",
      "libxslt                   1.1.32               h1312cb7_0  \r\n",
      "llvmlite                  0.23.1           py36hdbcaa40_0  \r\n",
      "locket                    0.2.0            py36h787c0ad_1  \r\n",
      "lxml                      4.2.1            py36h23eabaa_0  \r\n",
      "lzo                       2.10                 h49e0be7_2  \r\n",
      "markupsafe                1.0              py36hd9260cd_1  \r\n",
      "matplotlib                2.2.2            py36h0e671d2_1  \r\n",
      "mccabe                    0.6.1            py36h5ad9710_1  \r\n",
      "mistune                   0.8.3            py36h14c3975_1  \r\n",
      "mkl                       2018.0.2                      1  \r\n",
      "mkl-service               1.1.2            py36h17a0993_4  \r\n",
      "mkl_fft                   1.0.1            py36h3010b51_0  \r\n",
      "mkl_random                1.0.1            py36h629b387_0  \r\n",
      "more-itertools            4.1.0                    py36_0  \r\n",
      "mpc                       1.0.3                hec55b23_5  \r\n",
      "mpfr                      3.1.5                h11a74b3_2  \r\n",
      "mpmath                    1.0.0            py36hfeacd6b_2  \r\n",
      "msgpack-python            0.5.6            py36h6bb024c_0  \r\n",
      "multipledispatch          0.5.0                    py36_0  \r\n",
      "navigator-updater         0.2.1                    py36_0  \r\n",
      "nbconvert                 5.3.1            py36hb41ffb7_0  \r\n",
      "nbformat                  4.4.0            py36h31c9010_0  \r\n",
      "ncurses                   6.1                  hf484d3e_0  \r\n",
      "networkx                  2.1                      py36_0  \r\n",
      "nltk                      3.3.0                    py36_0  \r\n",
      "nose                      1.3.7            py36hcdf7029_2  \r\n",
      "notebook                  5.5.0                    py36_0  \r\n",
      "numba                     0.38.0           py36h637b7d7_0  \r\n",
      "numexpr                   2.6.5            py36h7bf3b9c_0  \r\n",
      "numpy                     1.14.3           py36hcd700cb_1  \r\n",
      "numpy-base                1.14.3           py36h9be14a7_1  \r\n",
      "numpydoc                  0.8.0                    py36_0  \r\n",
      "odo                       0.5.1            py36h90ed295_0  \r\n",
      "olefile                   0.45.1                   py36_0  \r\n",
      "openpyxl                  2.5.3                    py36_0  \r\n",
      "openssl                   1.0.2o               h20670df_0  \r\n",
      "packaging                 17.1                     py36_0  \r\n",
      "pandas                    0.23.0           py36h637b7d7_0  \r\n",
      "pandoc                    1.19.2.1             hea2e7c5_1  \r\n",
      "pandocfilters             1.4.2            py36ha6701b7_1  \r\n",
      "pango                     1.41.0               hd475d92_0  \r\n",
      "parso                     0.2.0                    py36_0  \r\n",
      "partd                     0.3.8            py36h36fd896_0  \r\n",
      "patchelf                  0.9                  hf79760b_2  \r\n",
      "path.py                   11.0.1                   py36_0  \r\n",
      "pathlib2                  2.3.2                    py36_0  \r\n",
      "patsy                     0.5.0                    py36_0  \r\n",
      "pcre                      8.42                 h439df22_0  \r\n",
      "pep8                      1.7.1                    py36_0  \r\n",
      "pexpect                   4.5.0                    py36_0  \r\n",
      "pickleshare               0.7.4            py36h63277f8_0  \r\n",
      "pillow                    5.1.0            py36h3deb7b8_0  \r\n",
      "pip                       10.0.1                   py36_0  \r\n",
      "pixman                    0.34.0               hceecf20_3  \r\n",
      "pkginfo                   1.4.2                    py36_1  \r\n",
      "pluggy                    0.6.0            py36hb689045_0  \r\n",
      "ply                       3.11                     py36_0  \r\n",
      "prompt_toolkit            1.0.15           py36h17d85b1_0  \r\n",
      "psutil                    5.4.5            py36h14c3975_0  \r\n",
      "ptyprocess                0.5.2            py36h69acd42_0  \r\n",
      "py                        1.5.3                    py36_0  \r\n",
      "pycodestyle               2.4.0                    py36_0  \r\n",
      "pycosat                   0.6.3            py36h0a5515d_0  \r\n",
      "pycparser                 2.18             py36hf9f622e_1  \r\n",
      "pycrypto                  2.6.1            py36h14c3975_8  \r\n",
      "pycurl                    7.43.0.1         py36hb7f436b_0  \r\n",
      "pyflakes                  1.6.0            py36h7bd6a15_0  \r\n",
      "pygments                  2.2.0            py36h0d3125c_0  \r\n",
      "pylint                    1.8.4                    py36_0  \r\n",
      "pyodbc                    4.0.23           py36hf484d3e_0  \r\n",
      "pyopenssl                 18.0.0                   py36_0  \r\n",
      "pyparsing                 2.2.0            py36hee85983_1  \r\n",
      "pyqt                      5.9.2            py36h751905a_0  \r\n",
      "pysocks                   1.6.8                    py36_0  \r\n",
      "pytables                  3.4.3            py36h02b9ad4_2  \r\n",
      "pytest                    3.5.1                    py36_0  \r\n",
      "pytest-arraydiff          0.2                      py36_0  \r\n",
      "pytest-astropy            0.3.0                    py36_0  \r\n",
      "pytest-doctestplus        0.1.3                    py36_0  \r\n",
      "pytest-openfiles          0.3.0                    py36_0  \r\n",
      "pytest-remotedata         0.2.1                    py36_0  \r\n",
      "python                    3.6.5                hc3d631a_2  \r\n",
      "python-dateutil           2.7.3                    py36_0  \r\n",
      "pytz                      2018.4                   py36_0  \r\n",
      "pywavelets                0.5.2            py36he602eb0_0  \r\n",
      "pyyaml                    3.12             py36hafb9ca4_1  \r\n",
      "pyzmq                     17.0.0           py36h14c3975_0  \r\n",
      "qt                        5.9.5                h7e424d6_0  \r\n",
      "qtawesome                 0.4.4            py36h609ed8c_0  \r\n",
      "qtconsole                 4.3.1            py36h8f73b5b_0  \r\n",
      "qtpy                      1.4.1                    py36_0  \r\n",
      "readline                  7.0                  ha6073c6_4  \r\n",
      "requests                  2.18.4           py36he2e5f8d_1  \r\n",
      "rope                      0.10.7           py36h147e2ec_0  \r\n",
      "ruamel_yaml               0.15.35          py36h14c3975_1  \r\n",
      "scikit-image              0.13.1           py36h14c3975_1  \r\n",
      "scikit-learn              0.19.1           py36h7aa7ec6_0  \r\n",
      "scipy                     1.1.0            py36hfc37229_0  \r\n",
      "seaborn                   0.8.1            py36hfad7ec4_0  \r\n",
      "send2trash                1.5.0                    py36_0  \r\n",
      "setuptools                39.1.0                   py36_0  \r\n",
      "simplegeneric             0.8.1                    py36_2  \r\n",
      "singledispatch            3.4.0.3          py36h7a266c3_0  \r\n",
      "sip                       4.19.8           py36hf484d3e_0  \r\n",
      "six                       1.11.0           py36h372c433_1  \r\n",
      "snappy                    1.1.7                hbae5bb6_3  \r\n",
      "snowballstemmer           1.2.1            py36h6febd40_0  \r\n",
      "sortedcollections         0.6.1                    py36_0  \r\n",
      "sortedcontainers          1.5.10                   py36_0  \r\n",
      "sphinx                    1.7.4                    py36_0  \r\n",
      "sphinxcontrib             1.0              py36h6d0f590_1  \r\n",
      "sphinxcontrib-websupport  1.0.1            py36hb5cb234_1  \r\n",
      "spyder                    3.2.8                    py36_0  \r\n",
      "sqlalchemy                1.2.7            py36h6b74fdf_0  \r\n",
      "sqlite                    3.23.1               he433501_0  \r\n",
      "statsmodels               0.9.0            py36h3010b51_0  \r\n",
      "sympy                     1.1.1            py36hc6d1c1c_0  \r\n",
      "tblib                     1.3.2            py36h34cf8b6_0  \r\n",
      "terminado                 0.8.1                    py36_1  \r\n",
      "testpath                  0.3.1            py36h8cadb63_0  \r\n",
      "tk                        8.6.7                hc745277_3  \r\n",
      "toolz                     0.9.0                    py36_0  \r\n",
      "tornado                   5.0.2                    py36_0  \r\n",
      "traitlets                 4.3.2            py36h674d592_0  \r\n",
      "typing                    3.6.4                    py36_0  \r\n",
      "unicodecsv                0.14.1           py36ha668878_0  \r\n",
      "unixodbc                  2.3.6                h1bed415_0  \r\n",
      "urllib3                   1.22             py36hbe7ace6_0  \r\n",
      "wcwidth                   0.1.7            py36hdf4376a_0  \r\n",
      "webencodings              0.5.1            py36h800622e_1  \r\n",
      "werkzeug                  0.14.1                   py36_0  \r\n",
      "wheel                     0.31.1                   py36_0  \r\n",
      "widgetsnbextension        3.2.1                    py36_0  \r\n",
      "wrapt                     1.10.11          py36h28b7045_0  \r\n",
      "xlrd                      1.1.0            py36h1db9f0c_1  \r\n",
      "xlsxwriter                1.0.4                    py36_0  \r\n",
      "xlwt                      1.3.0            py36h7b00a1f_0  \r\n",
      "xz                        5.2.4                h14c3975_4  \r\n",
      "yaml                      0.1.7                had09818_2  \r\n",
      "zeromq                    4.2.5                h439df22_0  \r\n",
      "zict                      0.1.3            py36h3a3bf81_0  \r\n",
      "zlib                      1.2.11               ha838bed_2  \r\n"
     ]
    }
   ],
   "source": [
    "!conda list"
   ]
  },
  {
   "cell_type": "code",
   "execution_count": null,
   "metadata": {},
   "outputs": [],
   "source": []
  }
 ],
 "metadata": {
  "kernelspec": {
   "display_name": "Python 3",
   "language": "python",
   "name": "python3"
  },
  "language_info": {
   "codemirror_mode": {
    "name": "ipython",
    "version": 3
   },
   "file_extension": ".py",
   "mimetype": "text/x-python",
   "name": "python",
   "nbconvert_exporter": "python",
   "pygments_lexer": "ipython3",
   "version": "3.6.5"
  }
 },
 "nbformat": 4,
 "nbformat_minor": 2
}
