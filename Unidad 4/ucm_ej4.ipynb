{
 "cells": [
  {
   "cell_type": "markdown",
   "metadata": {},
   "source": [
    "# Ejercicios 4"
   ]
  },
  {
   "cell_type": "markdown",
   "metadata": {},
   "source": [
    "#### 1 Ejercicio"
   ]
  },
  {
   "cell_type": "markdown",
   "metadata": {},
   "source": [
    "* Crear un array de tamaño 20 donde todos los elementos estén inicializados a cero. Por favor llámalo __a__."
   ]
  },
  {
   "cell_type": "code",
   "execution_count": 103,
   "metadata": {},
   "outputs": [
    {
     "data": {
      "text/plain": [
       "array([0., 0., 0., 0., 0., 0., 0., 0., 0., 0., 0., 0., 0., 0., 0., 0., 0.,\n",
       "       0., 0., 0.])"
      ]
     },
     "execution_count": 103,
     "metadata": {},
     "output_type": "execute_result"
    }
   ],
   "source": [
    "# Sol:\n",
    "import numpy as np\n",
    "a = np.zeros(20)\n",
    "a"
   ]
  },
  {
   "cell_type": "markdown",
   "metadata": {},
   "source": [
    "* Escribe una expresión Python para cambiar el valor de  los primeros 5 elementos; el nuevo valor es 10."
   ]
  },
  {
   "cell_type": "code",
   "execution_count": 106,
   "metadata": {},
   "outputs": [
    {
     "name": "stdout",
     "output_type": "stream",
     "text": [
      "[10. 10. 10. 10. 10.  0.  0.  0.  0.  0.  0.  0.  0.  0.  0.  0.  0.  0.\n",
      "  0.  0.]\n"
     ]
    }
   ],
   "source": [
    "# Sol:\n",
    "a[0:5] = 10\n",
    "print(a)"
   ]
  },
  {
   "cell_type": "markdown",
   "metadata": {},
   "source": [
    "* Modifica los siguientes 10 valores. Los nuevos valores serán el resultado de la secuencia de números pares comenzando por el 12. Utiliza la función __arange__."
   ]
  },
  {
   "cell_type": "code",
   "execution_count": 107,
   "metadata": {},
   "outputs": [
    {
     "data": {
      "text/plain": [
       "array([10., 10., 10., 10., 10., 12., 14., 16., 18., 20., 22., 24., 26.,\n",
       "       28., 30.,  0.,  0.,  0.,  0.,  0.])"
      ]
     },
     "execution_count": 107,
     "metadata": {},
     "output_type": "execute_result"
    }
   ],
   "source": [
    "# Sol:\n",
    "a[5:15] = np.arange(12,32,2)\n",
    "a"
   ]
  },
  {
   "cell_type": "markdown",
   "metadata": {},
   "source": [
    "* Modifica el valor de los últimos 5 elementos. Su nuevo valor es 30."
   ]
  },
  {
   "cell_type": "code",
   "execution_count": 149,
   "metadata": {},
   "outputs": [
    {
     "data": {
      "text/plain": [
       "array([10., 10., 10., 10., 10., 12., 14., 16., 18., 20., 22., 24., 26.,\n",
       "       28., 30., 30., 30., 30., 30., 30.])"
      ]
     },
     "execution_count": 149,
     "metadata": {},
     "output_type": "execute_result"
    }
   ],
   "source": [
    "# Sol:\n",
    "a[-5:] = 30\n",
    "a"
   ]
  },
  {
   "cell_type": "markdown",
   "metadata": {},
   "source": [
    "#### 2 Ejercicio"
   ]
  },
  {
   "cell_type": "markdown",
   "metadata": {},
   "source": [
    "El archivo de texto [holland_temperature.dat](./datos/holland_temperature.dat) recoge datos de las diferentes temperaturas registradas en Holanda en los últimos 12 meses.\n",
    "\n",
    "---\n",
    "a) Calcula la media de las temperaturas.\n",
    "   * Descarga el fichero [holland_temperature.dat](./datos/holland_temperature.dat) en tu directorio de trabajo.\n",
    "   * Carga los datos en una array llamado __temperatura__ mediante la función __loadtxt__.\n",
    "   * Utiliza la función __mean__ para calcular la media.\n",
    "    \n",
    "__Nota__: La media es 10.125."
   ]
  },
  {
   "cell_type": "code",
   "execution_count": 142,
   "metadata": {},
   "outputs": [
    {
     "name": "stdout",
     "output_type": "stream",
     "text": [
      "[ 3.1  3.3  6.2  9.2 13.1 15.6 17.9 17.5 14.5 10.7  6.7  3.7]\n"
     ]
    },
    {
     "data": {
      "text/plain": [
       "10.125"
      ]
     },
     "execution_count": 142,
     "metadata": {},
     "output_type": "execute_result"
    }
   ],
   "source": [
    "# Sol\n",
    "temperatures = np.loadtxt('holland_temperature.dat')\n",
    "print(temperatures)\n",
    "media = temperatures.mean()\n",
    "media"
   ]
  },
  {
   "cell_type": "markdown",
   "metadata": {},
   "source": [
    "------\n",
    "b) Nos interesa conocer los meses del año donde la temperatura ha sido superior a la media.\n",
    "   * Crear un array de meses [1,...,12]. Usa la función __arange__. \n",
    "   * Escribir la expresión que devuelve los meses donde la temperatura ha sido superior a la media usando como máscara un array de booleanos.\n",
    "    \n",
    "__Nota__: La solución es: [5,  6,  7,  8,  9, 10]"
   ]
  },
  {
   "cell_type": "code",
   "execution_count": 143,
   "metadata": {},
   "outputs": [
    {
     "name": "stdout",
     "output_type": "stream",
     "text": [
      "[False False False False  True  True  True  True  True  True False False]\n"
     ]
    },
    {
     "data": {
      "text/plain": [
       "array([ 5,  6,  7,  8,  9, 10])"
      ]
     },
     "execution_count": 143,
     "metadata": {},
     "output_type": "execute_result"
    }
   ],
   "source": [
    "# Sol:\n",
    "meses = np.arange(1,13)\n",
    "mascara = temperatures > media\n",
    "print(mascara)\n",
    "superiores = meses[mascara]\n",
    "#superiores = np.arange(1, 13)[temperatures > mean]\n",
    "superiores"
   ]
  },
  {
   "cell_type": "markdown",
   "metadata": {},
   "source": [
    "-------\n",
    "c) Queremos saber qué mes ha estado más cerca de la media. \n",
    "* Para ello calcula el array de diferencias con respecto a la media (operación diferencia). \n",
    "* Luego utiliza la función __argmin__ de Numpy para calcular el índice del array que contiene el mínimo valor.\n",
    "\n",
    "__Nota__: la solución es: 'El mes más cercano a los 10.12 grados es el mes 9'"
   ]
  },
  {
   "cell_type": "code",
   "execution_count": 161,
   "metadata": {},
   "outputs": [
    {
     "name": "stdout",
     "output_type": "stream",
     "text": [
      "[-7.025 -6.825 -3.925 -0.925  2.975  5.475  7.775  7.375  4.375  0.575\n",
      " -3.425 -6.425]\n",
      "[7.025 6.825 3.925 0.925 2.975 5.475 7.775 7.375 4.375 0.575 3.425 6.425]\n",
      "9\n"
     ]
    },
    {
     "data": {
      "text/plain": [
       "'El mes más cercano a los 10.12 grados es el mes 9'"
      ]
     },
     "execution_count": 161,
     "metadata": {},
     "output_type": "execute_result"
    }
   ],
   "source": [
    "# Sol:\n",
    "diff = temperatures - mean\n",
    "print(diff)\n",
    "absolut = np.absolute(diff)\n",
    "print(abs)\n",
    "minArg = absolut.argmin()\n",
    "print(min)\n",
    "#np.absolute(temperatures - mean).argmin()\n",
    "text = \"El mes más cercano a los %.2f grados es el mes %d\" % (media, minArg)\n",
    "text"
   ]
  },
  {
   "cell_type": "markdown",
   "metadata": {},
   "source": [
    "---------------------"
   ]
  }
 ],
 "metadata": {
  "anaconda-cloud": {},
  "kernelspec": {
   "display_name": "Python 3",
   "language": "python",
   "name": "python3"
  },
  "language_info": {
   "codemirror_mode": {
    "name": "ipython",
    "version": 3
   },
   "file_extension": ".py",
   "mimetype": "text/x-python",
   "name": "python",
   "nbconvert_exporter": "python",
   "pygments_lexer": "ipython3",
   "version": "3.6.5"
  }
 },
 "nbformat": 4,
 "nbformat_minor": 1
}
