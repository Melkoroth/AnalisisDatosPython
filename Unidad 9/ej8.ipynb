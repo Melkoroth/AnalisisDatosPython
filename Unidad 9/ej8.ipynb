{
 "cells": [
  {
   "cell_type": "markdown",
   "metadata": {},
   "source": [
    "# Ejercicios \n"
   ]
  },
  {
   "cell_type": "markdown",
   "metadata": {},
   "source": [
    "En el portal de datos abiertos del Gobierno de la Rioja podemos encontrar información de las \tEstaciones meteorológicas SOS Rioja (https://www.larioja.org/larioja-client/cm/dato-abierto-rioja?dato=94).\n",
    "\n",
    "Dichos datos se encuentran en varios formatos. El enlace (https://ias1.larioja.org/opendata/download?recurso=Mi3u/F508YJQbDsNDwEAEoX0VnBIYm3D) permite descargar los datos en formato XML.\n",
    "\n",
    "__Nota importante__: Los datos se actualizan diariamente, por lo que es posible que el data set (el documento xml) sea distinto si se accede a él en distintos días."
   ]
  },
  {
   "cell_type": "code",
   "execution_count": 1,
   "metadata": {},
   "outputs": [
    {
     "data": {
      "text/plain": [
       "Ellipsis"
      ]
     },
     "execution_count": 1,
     "metadata": {},
     "output_type": "execute_result"
    }
   ],
   "source": [
    "# Sol:\n",
    "import urllib.request\n",
    "import xml.etree.ElementTree as ET\n",
    "\n",
    "html = \"https://ias1.larioja.org/opendata/download?recurso=Mi3u/F508YJQbDsNDwEAEoX0VnBIYm3D\"\n",
    "..."
   ]
  },
  {
   "cell_type": "markdown",
   "metadata": {},
   "source": [
    "###  1 Ejercicio\n",
    "\n",
    "Crear una función que acceda al contenido del dataset y devuelva una lista de tuplas de la forma:\n",
    "\n",
    "```(nombre de la estación, fecha)```\n",
    "\n",
    "La función ha de llamarse __lista_estaciones__.\n",
    "\n",
    "Los primeros datos de la lista devuelta por la función son los siguientes (a fecha 07/12/2016):\n",
    "\n",
    "```\n",
    "[('Ezcaray (Peña San Torcuato)', ' 200102'),\n",
    " ('Ezcaray (Peña San Torcuato)', ' 200106'),\n",
    " ('Ezcaray (Peña San Torcuato)', ' 200111'),\n",
    " ('Ezcaray (Peña San Torcuato)', ' 200201'),\n",
    " ('Ezcaray (Peña San Torcuato)', ' 200205'),\n",
    " ('Ezcaray (Peña San Torcuato)', ' 200306'),\n",
    " ('Ezcaray (Peña San Torcuato)', ' 200501'),\n",
    " ('Ezcaray (Peña San Torcuato)', ' 200503'),\n",
    " ('Ezcaray (Peña San Torcuato)', ' 200505'),\n",
    " ('Ezcaray (Peña San Torcuato)', ' 200603'),\n",
    " ('Ezcaray (Peña San Torcuato)', ' 200704'),\n",
    " ('Ezcaray (Peña San Torcuato)', ' 200707'),\n",
    " ('Ezcaray (Peña San Torcuato)', ' 201002'),\n",
    " ('Ezcaray (Peña San Torcuato)', ' 201010'),\n",
    " ('Ezcaray (Peña San Torcuato)', ' 201110'),\n",
    " ('Ezcaray (Peña San Torcuato)', ' 201307'),\n",
    " ('Ezcaray (Peña San Torcuato)', ' 201408'),\n",
    " ('Ezcaray (Peña San Torcuato)', ' 201412'),\n",
    " ('Ezcaray (Peña San Torcuato)', ' 201503'),\n",
    " ('Ezcaray (Peña San Torcuato)', ' 201509'),\n",
    " ('Ezcaray (Peña San Torcuato)', ' 201512'),\n",
    " ('Haro (Parque de Bomberos)', ' 200107'),\n",
    " ('Haro (Parque de Bomberos)', ' 200204'),\n",
    " ('Haro (Parque de Bomberos)', ' 200205'),\n",
    " ('Haro (Parque de Bomberos)', ' 200212'),\n",
    " ('Haro (Parque de Bomberos)', ' 200306'),\n",
    " ('Haro (Parque de Bomberos)', ' 200307'),\n",
    " ('Haro (Parque de Bomberos)', ' 200311'),\n",
    " ('Haro (Parque de Bomberos)', ' 200312'),\n",
    " ('Haro (Parque de Bomberos)', ' 200602'),\n",
    " ('Haro (Parque de Bomberos)', ' 200607'),\n",
    " ('Haro (Parque de Bomberos)', ' 200809'),\n",
    " ('Haro (Parque de Bomberos)', ' 200902'),\n",
    " ('Haro (Parque de Bomberos)', ' 200905'),\n",
    " ('Haro (Parque de Bomberos)', ' 200906'),\n",
    " ('Haro (Parque de Bomberos)', ' 201109'),\n",
    " ('Haro (Parque de Bomberos)', ' 201111'),\n",
    " ('Haro (Parque de Bomberos)', ' 201212'),\n",
    " ('Haro (Parque de Bomberos)', ' 201312'),\n",
    " ('Haro (Parque de Bomberos)', ' 201404'),\n",
    " ('Haro (Parque de Bomberos)', ' 201508'),\n",
    " ('Haro (Parque de Bomberos)', ' 201509'),\n",
    " ('Arnedo (Parque de Bomberos)', ' 200108'),\n",
    " ('Arnedo (Parque de Bomberos)', ' 200402'),\n",
    " ('Arnedo (Parque de Bomberos)', ' 200403'),\n",
    " ('Arnedo (Parque de Bomberos)', ' 200409'),\n",
    " ('Arnedo (Parque de Bomberos)', ' 200506'),\n",
    " .....\n",
    "\n",
    "```\n",
    "\n",
    "__Sugerencia sobre los pasos a seguir__: \n",
    "\n",
    "a) Hacer una petición a la página https://ias1.larioja.org/opendata/download?recurso=Mi3u/F508YJQbDsNDwEAEoX0VnBIYm3D para obtener el dataset.\n",
    "\n",
    "b) Comprueba que es status_code es 200. Esto significa que la petición ha ido bien.\n",
    "\n",
    "c) Acceder a los datos usando las funciones __find_all__, __find__. Usar el atributo __text__ para recuperar la información pedida."
   ]
  },
  {
   "cell_type": "markdown",
   "metadata": {},
   "source": [
    "----"
   ]
  }
 ],
 "metadata": {
  "anaconda-cloud": {},
  "kernelspec": {
   "display_name": "Python 3",
   "language": "python",
   "name": "python3"
  },
  "language_info": {
   "codemirror_mode": {
    "name": "ipython",
    "version": 3
   },
   "file_extension": ".py",
   "mimetype": "text/x-python",
   "name": "python",
   "nbconvert_exporter": "python",
   "pygments_lexer": "ipython3",
   "version": "3.6.5"
  }
 },
 "nbformat": 4,
 "nbformat_minor": 1
}
